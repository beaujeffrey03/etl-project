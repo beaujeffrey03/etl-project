{
 "cells": [
  {
   "cell_type": "markdown",
   "metadata": {},
   "source": [
    "# ETL Project\n",
    "\n",
    "## Extract\n",
    "\n",
    "From Kaggle.com, we found two sources of data in .csv form that had similar subjects; famous movie catchphrases and movies available on netflix. The common column in each file is 'title' (the title of the movie). We thought it'd be fun to be able to find which of these famous movie catchphrases were available on Netflix.\n",
    "\n",
    "We read these .csv files with the Python Pandas library and assigned them to their own respective dataframes."
   ]
  },
  {
   "cell_type": "code",
   "execution_count": null,
   "metadata": {},
   "outputs": [],
   "source": [
    "import pandas as pd\n",
    "from sqlalchemy import create_engine\n",
    "import datetime\n",
    "from config import (user, password, host, port, database)"
   ]
  },
  {
   "cell_type": "code",
   "execution_count": null,
   "metadata": {},
   "outputs": [],
   "source": [
    "# read catchphrase.csv file\n",
    "csv_file = \"catchphrase.csv\"\n",
    "\n",
    "# store .csv into dataframe\n",
    "catchphrases_df = pd.read_csv(csv_file)\n",
    "catchphrases_df.head()"
   ]
  },
  {
   "cell_type": "code",
   "execution_count": null,
   "metadata": {},
   "outputs": [],
   "source": [
    "# read catchphrase.csv file\n",
    "csv_file = \"netflix_titles.csv\"\n",
    "\n",
    "# store .csv into dataframe\n",
    "netflix_df = pd.read_csv(csv_file)\n",
    "netflix_df"
   ]
  },
  {
   "cell_type": "markdown",
   "metadata": {},
   "source": [
    "## Transform\n",
    "\n",
    "To transform the data, we made sure the column names across both dataframes has consistent lowercase snake-case formatting.\n",
    "\n",
    "Because the data in the 'title' column of the original .csv movie catchrases file were in ALL CAPS, we decided to make the 'title' column in the netflix dataframe to be same. To do so, we used the str.upper() function.\n",
    "\n",
    "For good measure, we dropped duplicates in the netflix dataframe because there were so many records. We dropped a number of columns in each dataframe we decided were not relevant for particularly useful for this query.\n",
    "\n",
    "Finally, we set the 'title' column in each dataframe to the index. This way, we could rely on serial index columns in the schema we created on the SQL end."
   ]
  },
  {
   "cell_type": "code",
   "execution_count": null,
   "metadata": {},
   "outputs": [],
   "source": [
    "# rename columns of catchphrase_df\n",
    "catchphrases_df = catchphrases_df.rename(columns={'Catchphrase': 'catchphrase',\n",
    "                                'Movie Name': 'title',\n",
    "                                'Context': 'context'})\n",
    "catchphrases_df"
   ]
  },
  {
   "cell_type": "code",
   "execution_count": null,
   "metadata": {},
   "outputs": [],
   "source": [
    "# drop duplicates of netflix_df, jut in case.\n",
    "netflix_df = netflix_df.drop_duplicates()\n",
    "netflix_df.head()"
   ]
  },
  {
   "cell_type": "code",
   "execution_count": null,
   "metadata": {},
   "outputs": [],
   "source": [
    "# change netflix titles to ALL CAPS to be consistent with catchphrase_df\n",
    "netflix_df['title'] = netflix_df['title'].str.upper()\n",
    "netflix_df.head()"
   ]
  },
  {
   "cell_type": "code",
   "execution_count": null,
   "metadata": {},
   "outputs": [],
   "source": [
    "# drop unwanted columns in nextflix_df\n",
    "netflix_df = netflix_df[['title', 'date_added', 'release_year', 'rating', 'duration']]\n",
    "\n",
    "# set 'title' as index\n",
    "netflix_df = netflix_df.set_index('title')\n",
    "netflix_df.head()"
   ]
  },
  {
   "cell_type": "code",
   "execution_count": null,
   "metadata": {},
   "outputs": [],
   "source": [
    "# drop unwanted columns from catchphrase_df\n",
    "catchphrases_df = catchphrases_df[['title', 'catchphrase']]\n",
    "\n",
    "# set 'title' as index\n",
    "catchphrases_df = catchphrases_df.set_index('title')\n",
    "catchphrases_df.head()"
   ]
  },
  {
   "cell_type": "markdown",
   "metadata": {},
   "source": [
    "## Load\n",
    "We took the dataframes we created and loaded them into the respective tables we created in PostgreSQL."
   ]
  },
  {
   "cell_type": "code",
   "execution_count": null,
   "metadata": {},
   "outputs": [],
   "source": [
    "# create engine to postgreSQL\n",
    "engine = create_engine(f'postgresql://{user}:{password}@{host}:{port}/{database}')\n",
    "conn = engine.connect()"
   ]
  },
  {
   "cell_type": "code",
   "execution_count": null,
   "metadata": {},
   "outputs": [],
   "source": [
    "# look at tables in database\n",
    "engine.table_names()"
   ]
  },
  {
   "cell_type": "code",
   "execution_count": null,
   "metadata": {},
   "outputs": [],
   "source": [
    "# load catchphrases_df into catchphrases_db\n",
    "catchphrases_df.to_sql(name='catchphrases', con=engine, if_exists='append', index=True)"
   ]
  },
  {
   "cell_type": "code",
   "execution_count": null,
   "metadata": {},
   "outputs": [],
   "source": [
    "# load netflix_df into netflix_db\n",
    "netflix_df.to_sql(name='netflix', con=engine, if_exists='append', index=True)"
   ]
  },
  {
   "cell_type": "code",
   "execution_count": null,
   "metadata": {},
   "outputs": [],
   "source": []
  }
 ],
 "metadata": {
  "kernelspec": {
   "display_name": "Python 3",
   "language": "python",
   "name": "python3"
  },
  "language_info": {
   "codemirror_mode": {
    "name": "ipython",
    "version": 3
   },
   "file_extension": ".py",
   "mimetype": "text/x-python",
   "name": "python",
   "nbconvert_exporter": "python",
   "pygments_lexer": "ipython3",
   "version": "3.6.10"
  }
 },
 "nbformat": 4,
 "nbformat_minor": 4
}
